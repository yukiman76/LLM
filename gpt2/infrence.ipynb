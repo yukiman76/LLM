{
 "cells": [
  {
   "cell_type": "code",
   "execution_count": 1,
   "id": "0e97ddfc-f25a-4d9c-96b2-4f934622bf2a",
   "metadata": {},
   "outputs": [],
   "source": [
    "import time\n",
    "import math\n",
    "import torch.nn as nn\n",
    "import torch.nn.functional as F\n",
    "import torch\n",
    "import tiktoken\n",
    "device = \"cpu\"\n",
    "if torch.cuda.is_available():\n",
    "    device = \"cuda\"\n"
   ]
  },
  {
   "cell_type": "code",
   "execution_count": 2,
   "id": "49ab3876-a0b0-42f6-8833-4ba0955f996b",
   "metadata": {},
   "outputs": [],
   "source": [
    "from gpt2 import MultiHeadAttention, PositionalEncoding, GPTBlock, GPT"
   ]
  },
  {
   "cell_type": "code",
   "execution_count": 3,
   "id": "aa9897ac-8131-410a-be17-58aad0de9fc5",
   "metadata": {},
   "outputs": [],
   "source": [
    "m = torch.load('GPT.pt', weights_only=False)"
   ]
  },
  {
   "cell_type": "code",
   "execution_count": 4,
   "id": "0dfdd524-320a-40c1-9363-3d819e2d9c22",
   "metadata": {},
   "outputs": [],
   "source": [
    "tokenizer = tiktoken.get_encoding(\"gpt2\")"
   ]
  },
  {
   "cell_type": "code",
   "execution_count": 9,
   "id": "223a3cd0-9513-4377-ac71-4793d5d02562",
   "metadata": {},
   "outputs": [],
   "source": [
    "def chat(s):\n",
    "    with torch.no_grad():\n",
    "        input = torch.tensor(\n",
    "            tokenizer.encode(s), dtype=torch.long, device=device\n",
    "        ).unsqueeze(0)\n",
    "        \n",
    "        return  m.generate(input, max_new_tokens=10)[0]\n",
    "    "
   ]
  },
  {
   "cell_type": "code",
   "execution_count": 10,
   "id": "32642856-8991-4ba9-ba5a-2b0c531a753f",
   "metadata": {},
   "outputs": [
    {
     "name": "stdout",
     "output_type": "stream",
     "text": [
      "John has 2 apples and a cat, what should he eat  never wipeuto lookagne accident about theyeah of\n"
     ]
    }
   ],
   "source": [
    "print(chat(\"John has 2 apples and a cat, what should he eat \"))"
   ]
  },
  {
   "cell_type": "code",
   "execution_count": 7,
   "id": "76c39bfc-ee56-4a1b-93c5-c03a5bf702c9",
   "metadata": {},
   "outputs": [
    {
     "name": "stdout",
     "output_type": "stream",
     "text": [
      "cute  her kiss\n",
      "cute  yourselfIt\n",
      "cute 2019oh\n",
      "cute  the up\n",
      "cute terry\n",
      "cute  andmy\n",
      "cute \n",
      " warning\n",
      "cute No back\n",
      "cute  die the\n",
      "cute  eyes-\n"
     ]
    }
   ],
   "source": [
    "for x in range(10):\n",
    "    print(chat(\"cute \"))\n"
   ]
  },
  {
   "cell_type": "code",
   "execution_count": null,
   "id": "358afa1e-c03b-49b6-94e3-25ad6f047e70",
   "metadata": {},
   "outputs": [],
   "source": []
  }
 ],
 "metadata": {
  "kernelspec": {
   "display_name": "Python 3 (ipykernel)",
   "language": "python",
   "name": "python3"
  },
  "language_info": {
   "codemirror_mode": {
    "name": "ipython",
    "version": 3
   },
   "file_extension": ".py",
   "mimetype": "text/x-python",
   "name": "python",
   "nbconvert_exporter": "python",
   "pygments_lexer": "ipython3",
   "version": "3.10.10"
  }
 },
 "nbformat": 4,
 "nbformat_minor": 5
}
